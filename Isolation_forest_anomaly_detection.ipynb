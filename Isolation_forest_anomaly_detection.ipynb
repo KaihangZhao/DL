{
  "nbformat": 4,
  "nbformat_minor": 0,
  "metadata": {
    "colab": {
      "name": "Isolation_forest_anomaly_detection.ipynb",
      "provenance": [],
      "machine_shape": "hm",
      "authorship_tag": "ABX9TyOD7jL3mAeJEER+xQQSUHzX",
      "include_colab_link": true
    },
    "kernelspec": {
      "name": "python3",
      "display_name": "Python 3"
    },
    "language_info": {
      "name": "python"
    },
    "accelerator": "GPU"
  },
  "cells": [
    {
      "cell_type": "markdown",
      "metadata": {
        "id": "view-in-github",
        "colab_type": "text"
      },
      "source": [
        "<a href=\"https://colab.research.google.com/github/KaihangZhao/DL_Notebook_Warehouse/blob/main/Isolation_forest_anomaly_detection.ipynb\" target=\"_parent\"><img src=\"https://colab.research.google.com/assets/colab-badge.svg\" alt=\"Open In Colab\"/></a>"
      ]
    },
    {
      "cell_type": "code",
      "source": [
        "! unzip creditcard.csv.zip"
      ],
      "metadata": {
        "colab": {
          "base_uri": "https://localhost:8080/"
        },
        "id": "I1epNznukjHL",
        "outputId": "710eeafe-400f-41b8-ee36-8fa88329ae60"
      },
      "execution_count": null,
      "outputs": [
        {
          "output_type": "stream",
          "name": "stdout",
          "text": [
            "Archive:  creditcard.csv.zip\n",
            "  inflating: creditcard.csv          \n"
          ]
        }
      ]
    },
    {
      "cell_type": "code",
      "source": [
        "from sklearn.ensemble import IsolationForest\n",
        "import pandas as pd\n",
        "import numpy as np\n",
        "from sklearn.model_selection import train_test_split\n",
        "from sklearn.preprocessing import StandardScaler\n",
        "from sklearn.metrics import accuracy_score, confusion_matrix, classification_report, f1_score"
      ],
      "metadata": {
        "id": "6chHf3A2klu3"
      },
      "execution_count": null,
      "outputs": []
    },
    {
      "cell_type": "code",
      "source": [
        "data = pd.read_csv('creditcard.csv')\n",
        "\n",
        "\n",
        "\n",
        "scalar = StandardScaler()\n",
        "\n",
        "X = data.drop('Class', axis=1)\n",
        "y = data.Class\n",
        "\n",
        "X_train_v, X_test, y_train_v, y_test = train_test_split(X, y, \n",
        "                                                    test_size=0.3, random_state=42)\n",
        "X_train, X_validate, y_train, y_validate = train_test_split(X_train_v, y_train_v, \n",
        "                                                            test_size=0.2, random_state=42)\n",
        "\n",
        "X_train = scalar.fit_transform(X_train)\n",
        "X_validate = scalar.transform(X_validate)\n",
        "X_test = scalar.transform(X_test)\n",
        "\n",
        "clf = IsolationForest(contamination= 0.00172, n_jobs=-1).fit(X_train)"
      ],
      "metadata": {
        "id": "gdIZbZHglnTw"
      },
      "execution_count": null,
      "outputs": []
    },
    {
      "cell_type": "code",
      "source": [
        "\n",
        "\n",
        "def print_score(label, prediction, train=True):\n",
        "    if train:\n",
        "        clf_report = pd.DataFrame(classification_report(label, prediction, output_dict=True))\n",
        "        print(\"Train Result:\\n================================================\")\n",
        "        print(f\"Accuracy Score: {accuracy_score(label, prediction) * 100:.2f}%\")\n",
        "        print(\"_______________________________________________\")\n",
        "        print(f\"Classification Report:\\n{clf_report}\")\n",
        "        print(\"_______________________________________________\")\n",
        "        print(f\"Confusion Matrix: \\n {confusion_matrix(y_train, prediction)}\\n\")\n",
        "        \n",
        "    elif train==False:\n",
        "        clf_report = pd.DataFrame(classification_report(label, prediction, output_dict=True))\n",
        "        print(\"Test Result:\\n================================================\")        \n",
        "        print(f\"Accuracy Score: {accuracy_score(label, prediction) * 100:.2f}%\")\n",
        "        print(\"_______________________________________________\")\n",
        "        print(f\"Classification Report:\\n{clf_report}\")\n",
        "        print(\"_______________________________________________\")\n",
        "        print(f\"Confusion Matrix: \\n {confusion_matrix(label, prediction)}\\n\") "
      ],
      "metadata": {
        "id": "-vr4Z4HYmbfi"
      },
      "execution_count": null,
      "outputs": []
    },
    {
      "cell_type": "code",
      "source": [
        "y_train_pred = clf.predict(X_train)\n",
        "y_test_pred = clf.predict(X_test)\n",
        "y_train_pred = np.where(y_train_pred==1,0,1)\n",
        "y_test_pred = np.where(y_test_pred==1,0,1)\n",
        "print_score(y_train, y_train_pred, train=True)\n",
        "print_score(y_test, y_test_pred, train=False)"
      ],
      "metadata": {
        "colab": {
          "base_uri": "https://localhost:8080/"
        },
        "id": "_C8Z_kVbmigF",
        "outputId": "ad7c2052-9a9d-48c6-cec2-dd819078c22f"
      },
      "execution_count": null,
      "outputs": [
        {
          "output_type": "stream",
          "name": "stdout",
          "text": [
            "Train Result:\n",
            "================================================\n",
            "Accuracy Score: 99.73%\n",
            "_______________________________________________\n",
            "Classification Report:\n",
            "                       0           1  accuracy      macro avg   weighted avg\n",
            "precision       0.998606    0.236364  0.997291       0.617485       0.997234\n",
            "recall          0.998681    0.226481  0.997291       0.612581       0.997291\n",
            "f1-score        0.998643    0.231317  0.997291       0.614980       0.997263\n",
            "support    159204.000000  287.000000  0.997291  159491.000000  159491.000000\n",
            "_______________________________________________\n",
            "Confusion Matrix: \n",
            " [[158994    210]\n",
            " [   222     65]]\n",
            "\n",
            "Test Result:\n",
            "================================================\n",
            "Accuracy Score: 99.78%\n",
            "_______________________________________________\n",
            "Classification Report:\n",
            "                      0           1  accuracy     macro avg  weighted avg\n",
            "precision      0.998910    0.307143  0.997776      0.653026      0.997809\n",
            "recall         0.998863    0.316176  0.997776      0.657520      0.997776\n",
            "f1-score       0.998886    0.311594  0.997776      0.655240      0.997792\n",
            "support    85307.000000  136.000000  0.997776  85443.000000  85443.000000\n",
            "_______________________________________________\n",
            "Confusion Matrix: \n",
            " [[85210    97]\n",
            " [   93    43]]\n",
            "\n"
          ]
        }
      ]
    },
    {
      "cell_type": "code",
      "source": [
        "clf = IsolationForest(contamination= 0.05, n_jobs=-1).fit(X_train)\n",
        "y_train_pred = clf.predict(X_train)\n",
        "y_test_pred = clf.predict(X_test)\n",
        "y_train_pred = np.where(y_train_pred==1,0,1)\n",
        "y_test_pred = np.where(y_test_pred==1,0,1)\n",
        "print_score(y_train, y_train_pred, train=True)\n",
        "print_score(y_test, y_test_pred, train=False)"
      ],
      "metadata": {
        "colab": {
          "base_uri": "https://localhost:8080/"
        },
        "id": "E72uzLubpotc",
        "outputId": "178ec49b-6d05-4b3b-917f-6f81df60b835"
      },
      "execution_count": null,
      "outputs": [
        {
          "output_type": "stream",
          "name": "stdout",
          "text": [
            "Train Result:\n",
            "================================================\n",
            "Accuracy Score: 95.12%\n",
            "_______________________________________________\n",
            "Classification Report:\n",
            "                       0           1  accuracy      macro avg   weighted avg\n",
            "precision       0.999677    0.029843  0.951182       0.514760       0.997931\n",
            "recall          0.951402    0.829268  0.951182       0.890335       0.951182\n",
            "f1-score        0.974942    0.057613  0.951182       0.516278       0.973291\n",
            "support    159204.000000  287.000000  0.951182  159491.000000  159491.000000\n",
            "_______________________________________________\n",
            "Confusion Matrix: \n",
            " [[151467   7737]\n",
            " [    49    238]]\n",
            "\n",
            "Test Result:\n",
            "================================================\n",
            "Accuracy Score: 95.15%\n",
            "_______________________________________________\n",
            "Classification Report:\n",
            "                      0           1  accuracy     macro avg  weighted avg\n",
            "precision      0.999729    0.026912    0.9515      0.513321      0.998181\n",
            "recall         0.951680    0.838235    0.9515      0.894958      0.951500\n",
            "f1-score       0.975113    0.052150    0.9515      0.513632      0.973644\n",
            "support    85307.000000  136.000000    0.9515  85443.000000  85443.000000\n",
            "_______________________________________________\n",
            "Confusion Matrix: \n",
            " [[81185  4122]\n",
            " [   22   114]]\n",
            "\n"
          ]
        }
      ]
    },
    {
      "cell_type": "code",
      "source": [
        "clf = IsolationForest(contamination= 0.1, n_jobs=-1).fit(X_train)\n",
        "y_train_pred = clf.predict(X_train)\n",
        "y_test_pred = clf.predict(X_test)\n",
        "y_train_pred = np.where(y_train_pred==1,0,1)\n",
        "y_test_pred = np.where(y_test_pred==1,0,1)\n",
        "print_score(y_train, y_train_pred, train=True)\n",
        "print_score(y_test, y_test_pred, train=False)"
      ],
      "metadata": {
        "colab": {
          "base_uri": "https://localhost:8080/"
        },
        "id": "u4Vb7rHcqQGE",
        "outputId": "5cd8dcea-9d2a-4815-80c7-69d39fa17c1a"
      },
      "execution_count": null,
      "outputs": [
        {
          "output_type": "stream",
          "name": "stdout",
          "text": [
            "Train Result:\n",
            "================================================\n",
            "Accuracy Score: 90.14%\n",
            "_______________________________________________\n",
            "Classification Report:\n",
            "                       0           1  accuracy      macro avg   weighted avg\n",
            "precision       0.999763    0.015863  0.901374       0.507813       0.997993\n",
            "recall          0.901410    0.881533  0.901374       0.891471       0.901374\n",
            "f1-score        0.948042    0.031165  0.901374       0.489604       0.946392\n",
            "support    159204.000000  287.000000  0.901374  159491.000000  159491.000000\n",
            "_______________________________________________\n",
            "Confusion Matrix: \n",
            " [[143508  15696]\n",
            " [    34    253]]\n",
            "\n",
            "Test Result:\n",
            "================================================\n",
            "Accuracy Score: 90.13%\n",
            "_______________________________________________\n",
            "Classification Report:\n",
            "                      0           1  accuracy     macro avg  weighted avg\n",
            "precision      0.999857    0.014620  0.901268      0.507238      0.998289\n",
            "recall         0.901239    0.919118  0.901268      0.910178      0.901268\n",
            "f1-score       0.947990    0.028782  0.901268      0.488386      0.946527\n",
            "support    85307.000000  136.000000  0.901268  85443.000000  85443.000000\n",
            "_______________________________________________\n",
            "Confusion Matrix: \n",
            " [[76882  8425]\n",
            " [   11   125]]\n",
            "\n"
          ]
        }
      ]
    },
    {
      "cell_type": "code",
      "source": [
        ""
      ],
      "metadata": {
        "id": "occ3Bl8YqSca"
      },
      "execution_count": null,
      "outputs": []
    }
  ]
}