{
  "cells": [
    {
      "cell_type": "markdown",
      "metadata": {
        "id": "view-in-github",
        "colab_type": "text"
      },
      "source": [
        "<a href=\"https://colab.research.google.com/github/KaihangZhao/DL_Notebook_Warehouse/blob/main/Recommendation_System/Matrix_Factorization.ipynb\" target=\"_parent\"><img src=\"https://colab.research.google.com/assets/colab-badge.svg\" alt=\"Open In Colab\"/></a>"
      ]
    },
    {
      "cell_type": "code",
      "execution_count": null,
      "id": "0947e4a6",
      "metadata": {
        "ExecuteTime": {
          "end_time": "2022-02-11T09:08:50.478270Z",
          "start_time": "2022-02-11T09:08:49.292888Z"
        },
        "id": "0947e4a6"
      },
      "outputs": [],
      "source": [
        "import pandas as pd\n",
        "import numpy as np\n",
        "import torch \n",
        "import torch.autograd as autograd \n",
        "import torch.nn as nn \n",
        "import torch.nn.functional as F\n",
        "import torch.optim as optim\n",
        "from torch.utils.data import TensorDataset, DataLoader\n",
        "from sklearn.preprocessing import StandardScaler\n",
        "from sklearn.metrics import roc_auc_score\n",
        "from sklearn.metrics import accuracy_score"
      ]
    },
    {
      "cell_type": "code",
      "execution_count": null,
      "id": "bb6b6cdc",
      "metadata": {
        "ExecuteTime": {
          "end_time": "2022-02-11T09:08:51.255213Z",
          "start_time": "2022-02-11T09:08:51.009917Z"
        },
        "id": "bb6b6cdc"
      },
      "outputs": [],
      "source": [
        "item = pd.read_csv('item_feature.csv')\n",
        "train = pd.read_csv('training.csv')\n",
        "df = train.merge(item, on = 'item_id', how = 'left')\n",
        "df['label'] =1"
      ]
    },
    {
      "cell_type": "code",
      "execution_count": null,
      "id": "850c2361",
      "metadata": {
        "ExecuteTime": {
          "end_time": "2022-02-11T09:09:30.663462Z",
          "start_time": "2022-02-11T09:09:30.528130Z"
        },
        "id": "850c2361"
      },
      "outputs": [],
      "source": [
        "u = np.random.randint(low=0.0, high=df.user_id.max(), size=int(len(df)*1.25))\n",
        "i = np.random.randint(low=0.0, high=df.item_id.max(), size=int(len(df)*1.25))\n",
        "c = np.random.randint(low=0.0, high=df.context_feature_id.max(), size=int(len(df)*1.25))"
      ]
    },
    {
      "cell_type": "code",
      "execution_count": null,
      "id": "e4d2df5c",
      "metadata": {
        "ExecuteTime": {
          "end_time": "2022-02-11T09:10:14.206901Z",
          "start_time": "2022-02-11T09:09:31.690467Z"
        },
        "id": "e4d2df5c"
      },
      "outputs": [],
      "source": [
        "sample= pd.DataFrame([u,i,c]).T.rename(columns={0:'user_id', 1:'item_id', 2:'context_feature_id'})\n",
        "sample = sample.merge(item, on = 'item_id', how = 'left')\n",
        "sample['label'] = 0\n",
        "df = pd.concat([df,sample])\n",
        "df = df.drop_duplicates(subset=['user_id','item_id'])"
      ]
    },
    {
      "cell_type": "code",
      "execution_count": null,
      "id": "4d5895c5",
      "metadata": {
        "ExecuteTime": {
          "end_time": "2022-02-11T09:10:17.249070Z",
          "start_time": "2022-02-11T09:10:17.158123Z"
        },
        "id": "4d5895c5",
        "outputId": "d4f0b1a6-c822-49e8-9389-aa3fa995bb86"
      },
      "outputs": [
        {
          "data": {
            "text/plain": [
              "(200153, 200152, 200153)"
            ]
          },
          "execution_count": 9,
          "metadata": {},
          "output_type": "execute_result"
        }
      ],
      "source": [
        "len(df.user_id.unique()), len(sample.user_id.unique()), df.user_id.max()+1"
      ]
    },
    {
      "cell_type": "code",
      "execution_count": null,
      "id": "a1ca1a34",
      "metadata": {
        "ExecuteTime": {
          "end_time": "2022-02-11T09:10:18.727056Z",
          "start_time": "2022-02-11T09:10:18.642725Z"
        },
        "id": "a1ca1a34",
        "outputId": "de4ddce2-a7f3-4991-d29f-aba787904ca5"
      },
      "outputs": [
        {
          "data": {
            "text/plain": [
              "(39901, 39900, 39901)"
            ]
          },
          "execution_count": 10,
          "metadata": {},
          "output_type": "execute_result"
        }
      ],
      "source": [
        "len(df.item_id.unique()), len(sample.item_id.unique()), df.item_id.max()+1"
      ]
    },
    {
      "cell_type": "code",
      "execution_count": null,
      "id": "1a9f55eb",
      "metadata": {
        "ExecuteTime": {
          "end_time": "2022-02-11T09:10:22.401658Z",
          "start_time": "2022-02-11T09:10:21.886126Z"
        },
        "id": "1a9f55eb"
      },
      "outputs": [],
      "source": [
        "df = df.sample(frac=1).reset_index(drop = True)"
      ]
    },
    {
      "cell_type": "markdown",
      "id": "fa54d7f9",
      "metadata": {
        "id": "fa54d7f9"
      },
      "source": [
        "### Matrix Factorization"
      ]
    },
    {
      "cell_type": "code",
      "execution_count": null,
      "id": "78e9b0e3",
      "metadata": {
        "ExecuteTime": {
          "end_time": "2022-02-11T09:10:24.037934Z",
          "start_time": "2022-02-11T09:10:23.842067Z"
        },
        "id": "78e9b0e3"
      },
      "outputs": [],
      "source": [
        "df1 = df[['user_id', 'item_id', 'label']]\n",
        "np.random.seed(3)\n",
        "msk = np.random.rand(len(df1)) < 0.8\n",
        "train = df1[msk].reset_index(drop = True)\n",
        "val = df1[~msk].reset_index(drop = True)"
      ]
    },
    {
      "cell_type": "code",
      "execution_count": null,
      "id": "0f4de696",
      "metadata": {
        "ExecuteTime": {
          "end_time": "2022-02-11T09:25:34.394763Z",
          "start_time": "2022-02-11T09:25:34.367417Z"
        },
        "id": "0f4de696"
      },
      "outputs": [],
      "source": [
        "class MF(nn.Module):\n",
        "    def __init__(self, num_users, num_items, emb_size=20, seed=23):\n",
        "        super(MF, self).__init__()\n",
        "        torch.manual_seed(seed)\n",
        "        self.user_emb = nn.Embedding(num_users, emb_size)\n",
        "        self.user_bias = nn.Embedding(num_users, 1)\n",
        "        self.item_emb = nn.Embedding(num_items, emb_size)\n",
        "        self.item_bias = nn.Embedding(num_items, 1)\n",
        "        # init \n",
        "        self.user_emb.weight.data.uniform_(0,0.05)\n",
        "        self.item_emb.weight.data.uniform_(0,0.05)\n",
        "        self.user_bias.weight.data.uniform_(-0.01,0.01)\n",
        "        self.item_bias.weight.data.uniform_(-0.01,0.01)\n",
        "        self.classifier = nn.Sigmoid()\n",
        "        self.nonlin = nn.ReLU()\n",
        "        self.dropout = nn.Dropout(p=0.2)\n",
        "        \n",
        "    def forward(self, u, v):\n",
        "        U = self.user_emb(u)\n",
        "        U = self.nonlin(U)\n",
        "        V = self.item_emb(v)\n",
        "        V = self.dropout(V)\n",
        "        b_u = self.user_bias(u).squeeze()\n",
        "        b_v = self.item_bias(v).squeeze()\n",
        "        return self.classifier((U*V).sum(1) +  b_u  + b_v)\n",
        "        ### END SOLUTION"
      ]
    },
    {
      "cell_type": "code",
      "execution_count": null,
      "id": "4bb587e8",
      "metadata": {
        "ExecuteTime": {
          "end_time": "2022-02-11T09:10:29.696849Z",
          "start_time": "2022-02-11T09:10:29.678464Z"
        },
        "id": "4bb587e8"
      },
      "outputs": [],
      "source": [
        "def train_one_epoch(model, train_df, optimizer):\n",
        "    \"\"\" Trains the model for one epoch\"\"\"\n",
        "    model.train()\n",
        "    ### BEGIN SOLUTION\n",
        "    y = torch.FloatTensor(train_df.label.values)\n",
        "    u = torch.LongTensor(train_df.user_id.values)\n",
        "    v = torch.LongTensor(train_df.item_id.values)\n",
        "    y_hat = model(u,v)\n",
        "    output = torch.as_tensor(y_hat > 0.5, dtype = torch.int8)\n",
        "    train_acc = accuracy_score(output,y)\n",
        "    train_loss = F.binary_cross_entropy(y_hat, y)\n",
        "    optimizer.zero_grad()\n",
        "    train_loss.backward()\n",
        "    optimizer.step()\n",
        "    ### END SOLUTION\n",
        "    return train_loss.item(), train_acc\n",
        "\n",
        "def valid_metrics(model, valid_df):\n",
        "    \"\"\"Computes validation loss and accuracy\"\"\"\n",
        "    model.eval()\n",
        "    ### BEGIN SOLUTION\n",
        "    u = torch.LongTensor(valid_df.user_id.values)\n",
        "    v = torch.LongTensor(valid_df.item_id.values)\n",
        "    y = torch.FloatTensor(valid_df.label.values)\n",
        "    y_hat = model(u,v)\n",
        "    valid_loss = F.binary_cross_entropy(y_hat, y)\n",
        "    output = torch.as_tensor(y_hat > 0.5, dtype = torch.int8)\n",
        "    auc = roc_auc_score( y.detach().numpy(), y_hat.detach().numpy())\n",
        "    valid_acc = accuracy_score(output,y)\n",
        "    ### END SOLUTION\n",
        "    return valid_loss.item(), valid_acc, auc\n",
        "\n",
        "def training(model, train_df, valid_df, epochs=10, lr=0.01, wd=0.0):\n",
        "    optimizer = torch.optim.Adam(model.parameters(), lr=lr, weight_decay=wd)\n",
        "    for i in range(epochs):\n",
        "        train_loss, train_acc = train_one_epoch(model, train_df, optimizer)\n",
        "        valid_loss, valid_acc, auc = valid_metrics(model, valid_df) \n",
        "        if i%5 ==0:\n",
        "            print(\"train loss %.3f train acc %.3f valid loss %.3f valid acc %.3f roc auc acc %.3f\" % (train_loss,train_acc,valid_loss, valid_acc, auc)) \n",
        "        \n"
      ]
    },
    {
      "cell_type": "code",
      "execution_count": null,
      "id": "187e3398",
      "metadata": {
        "ExecuteTime": {
          "end_time": "2022-02-10T00:57:19.470134Z",
          "start_time": "2022-02-10T00:56:01.740632Z"
        },
        "id": "187e3398"
      },
      "outputs": [],
      "source": [
        "model = MF(df.user_id.max()+1, df.item_id.max()+1, emb_size=75) \n",
        "#optimizer = torch.optim.Adam(model.parameters(), lr=0.01, weight_decay=1e-5)\n",
        "training(model, train, val, epochs=20, lr=0.1, wd=1e-6)"
      ]
    },
    {
      "cell_type": "code",
      "execution_count": null,
      "id": "a4b0675d",
      "metadata": {
        "ExecuteTime": {
          "end_time": "2022-02-11T09:28:46.300843Z",
          "start_time": "2022-02-11T09:25:40.794401Z"
        },
        "id": "a4b0675d",
        "outputId": "b804f0d0-db37-4957-dea1-c2be75b48707"
      },
      "outputs": [
        {
          "name": "stdout",
          "output_type": "stream",
          "text": [
            "train loss 0.708 train acc 0.185 valid loss 0.625 valid acc 0.870 roc auc acc 0.825\n",
            "train loss 0.330 train acc 0.915 valid loss 0.287 valid acc 0.912 roc auc acc 0.926\n",
            "train loss 0.224 train acc 0.923 valid loss 0.270 valid acc 0.915 roc auc acc 0.926\n",
            "train loss 0.244 train acc 0.932 valid loss 0.275 valid acc 0.917 roc auc acc 0.930\n",
            "train loss 0.223 train acc 0.944 valid loss 0.265 valid acc 0.922 roc auc acc 0.935\n",
            "train loss 0.203 train acc 0.948 valid loss 0.243 valid acc 0.926 roc auc acc 0.943\n"
          ]
        }
      ],
      "source": [
        "model = MF(df.user_id.max()+1, df.item_id.max()+1, emb_size=75) \n",
        "#optimizer = torch.optim.Adam(model.parameters(), lr=0.01, weight_decay=1e-5)\n",
        "training(model, train, val, epochs=30, lr=0.1, wd=1e-6)"
      ]
    },
    {
      "cell_type": "code",
      "execution_count": null,
      "id": "6eb765d9",
      "metadata": {
        "ExecuteTime": {
          "end_time": "2022-02-11T09:31:55.160603Z",
          "start_time": "2022-02-11T09:28:51.080936Z"
        },
        "id": "6eb765d9",
        "outputId": "8e2b306f-67da-4781-ca66-090ca2febb02"
      },
      "outputs": [
        {
          "name": "stdout",
          "output_type": "stream",
          "text": [
            "train loss 0.190 train acc 0.955 valid loss 0.243 valid acc 0.928 roc auc acc 0.946\n",
            "train loss 0.195 train acc 0.955 valid loss 0.233 valid acc 0.931 roc auc acc 0.949\n",
            "train loss 0.191 train acc 0.958 valid loss 0.230 valid acc 0.934 roc auc acc 0.952\n",
            "train loss 0.186 train acc 0.960 valid loss 0.225 valid acc 0.937 roc auc acc 0.954\n",
            "train loss 0.186 train acc 0.961 valid loss 0.225 valid acc 0.938 roc auc acc 0.954\n",
            "train loss 0.186 train acc 0.961 valid loss 0.224 valid acc 0.938 roc auc acc 0.954\n"
          ]
        }
      ],
      "source": [
        "training(model, train, val, epochs=30, lr=0.05, wd=1e-6)"
      ]
    },
    {
      "cell_type": "code",
      "execution_count": null,
      "id": "d7b00b66",
      "metadata": {
        "ExecuteTime": {
          "end_time": "2022-02-11T09:39:21.636478Z",
          "start_time": "2022-02-11T09:36:10.301273Z"
        },
        "id": "d7b00b66",
        "outputId": "c4e6dd44-4141-4fe9-c5d8-8efbb5d5e757"
      },
      "outputs": [
        {
          "name": "stdout",
          "output_type": "stream",
          "text": [
            "train loss 0.186 train acc 0.962 valid loss 0.224 valid acc 0.939 roc auc acc 0.955\n",
            "train loss 0.186 train acc 0.962 valid loss 0.224 valid acc 0.939 roc auc acc 0.955\n",
            "train loss 0.186 train acc 0.962 valid loss 0.224 valid acc 0.939 roc auc acc 0.955\n",
            "train loss 0.186 train acc 0.962 valid loss 0.224 valid acc 0.939 roc auc acc 0.955\n",
            "train loss 0.186 train acc 0.962 valid loss 0.224 valid acc 0.939 roc auc acc 0.955\n",
            "train loss 0.186 train acc 0.962 valid loss 0.224 valid acc 0.939 roc auc acc 0.955\n"
          ]
        }
      ],
      "source": [
        "training(model, train, val, epochs=30, lr=0.001, wd=1e-6)"
      ]
    },
    {
      "cell_type": "code",
      "execution_count": null,
      "id": "a431dee3",
      "metadata": {
        "ExecuteTime": {
          "end_time": "2022-02-11T09:39:48.109451Z",
          "start_time": "2022-02-11T09:39:47.980725Z"
        },
        "id": "a431dee3",
        "outputId": "0a60a17c-98e7-453e-923f-cacd98a62505"
      },
      "outputs": [
        {
          "data": {
            "text/html": [
              "<div>\n",
              "<style scoped>\n",
              "    .dataframe tbody tr th:only-of-type {\n",
              "        vertical-align: middle;\n",
              "    }\n",
              "\n",
              "    .dataframe tbody tr th {\n",
              "        vertical-align: top;\n",
              "    }\n",
              "\n",
              "    .dataframe thead th {\n",
              "        text-align: right;\n",
              "    }\n",
              "</style>\n",
              "<table border=\"1\" class=\"dataframe\">\n",
              "  <thead>\n",
              "    <tr style=\"text-align: right;\">\n",
              "      <th></th>\n",
              "      <th>id</th>\n",
              "      <th>user_id</th>\n",
              "      <th>item_id</th>\n",
              "      <th>context_feature_id</th>\n",
              "    </tr>\n",
              "  </thead>\n",
              "  <tbody>\n",
              "    <tr>\n",
              "      <th>0</th>\n",
              "      <td>0</td>\n",
              "      <td>4</td>\n",
              "      <td>16835</td>\n",
              "      <td>2</td>\n",
              "    </tr>\n",
              "    <tr>\n",
              "      <th>1</th>\n",
              "      <td>1</td>\n",
              "      <td>4</td>\n",
              "      <td>22590</td>\n",
              "      <td>3</td>\n",
              "    </tr>\n",
              "    <tr>\n",
              "      <th>2</th>\n",
              "      <td>2</td>\n",
              "      <td>4</td>\n",
              "      <td>1978</td>\n",
              "      <td>1</td>\n",
              "    </tr>\n",
              "    <tr>\n",
              "      <th>3</th>\n",
              "      <td>3</td>\n",
              "      <td>4</td>\n",
              "      <td>28916</td>\n",
              "      <td>1</td>\n",
              "    </tr>\n",
              "    <tr>\n",
              "      <th>4</th>\n",
              "      <td>4</td>\n",
              "      <td>4</td>\n",
              "      <td>14427</td>\n",
              "      <td>2</td>\n",
              "    </tr>\n",
              "  </tbody>\n",
              "</table>\n",
              "</div>"
            ],
            "text/plain": [
              "   id  user_id  item_id  context_feature_id\n",
              "0   0        4    16835                   2\n",
              "1   1        4    22590                   3\n",
              "2   2        4     1978                   1\n",
              "3   3        4    28916                   1\n",
              "4   4        4    14427                   2"
            ]
          },
          "execution_count": 25,
          "metadata": {},
          "output_type": "execute_result"
        }
      ],
      "source": [
        "test = pd.read_csv('test_kaggle.csv')\n",
        "test.head()"
      ]
    },
    {
      "cell_type": "code",
      "execution_count": null,
      "id": "efd3e77a",
      "metadata": {
        "ExecuteTime": {
          "end_time": "2022-02-11T09:39:53.122379Z",
          "start_time": "2022-02-11T09:39:53.012725Z"
        },
        "id": "efd3e77a"
      },
      "outputs": [],
      "source": [
        "u = torch.LongTensor(test.user_id.values)\n",
        "v = torch.LongTensor(test.item_id.values)\n",
        "y_hat = model(u,v)\n",
        "prob = pd.Series(y_hat.detach().numpy()).reset_index().rename(columns = {'index':'id',0:'rating'})\n",
        "# prob.to_csv('',index=False)"
      ]
    },
    {
      "cell_type": "code",
      "execution_count": null,
      "id": "15a8d454",
      "metadata": {
        "ExecuteTime": {
          "end_time": "2022-02-11T09:41:36.901874Z",
          "start_time": "2022-02-11T09:41:36.856632Z"
        },
        "id": "15a8d454",
        "outputId": "092394f8-4b9d-4ebd-c862-0354e02b8535"
      },
      "outputs": [
        {
          "data": {
            "text/plain": [
              "0.32708942407278735"
            ]
          },
          "execution_count": 29,
          "metadata": {},
          "output_type": "execute_result"
        }
      ],
      "source": [
        "sum(prob.rating>0.5)/len(prob)"
      ]
    },
    {
      "cell_type": "code",
      "execution_count": null,
      "id": "5c1fb6a8",
      "metadata": {
        "id": "5c1fb6a8"
      },
      "outputs": [],
      "source": [
        ""
      ]
    }
  ],
  "metadata": {
    "kernelspec": {
      "display_name": "Python 3 (ipykernel)",
      "language": "python",
      "name": "python3"
    },
    "language_info": {
      "codemirror_mode": {
        "name": "ipython",
        "version": 3
      },
      "file_extension": ".py",
      "mimetype": "text/x-python",
      "name": "python",
      "nbconvert_exporter": "python",
      "pygments_lexer": "ipython3",
      "version": "3.9.7"
    },
    "toc": {
      "base_numbering": 1,
      "nav_menu": {},
      "number_sections": true,
      "sideBar": true,
      "skip_h1_title": false,
      "title_cell": "Table of Contents",
      "title_sidebar": "Contents",
      "toc_cell": false,
      "toc_position": {},
      "toc_section_display": true,
      "toc_window_display": false
    },
    "varInspector": {
      "cols": {
        "lenName": 16,
        "lenType": 16,
        "lenVar": 40
      },
      "kernels_config": {
        "python": {
          "delete_cmd_postfix": "",
          "delete_cmd_prefix": "del ",
          "library": "var_list.py",
          "varRefreshCmd": "print(var_dic_list())"
        },
        "r": {
          "delete_cmd_postfix": ") ",
          "delete_cmd_prefix": "rm(",
          "library": "var_list.r",
          "varRefreshCmd": "cat(var_dic_list()) "
        }
      },
      "types_to_exclude": [
        "module",
        "function",
        "builtin_function_or_method",
        "instance",
        "_Feature"
      ],
      "window_display": false
    },
    "colab": {
      "name": "Recommendation_System_Matrix_Factorization.ipynb",
      "provenance": [],
      "include_colab_link": true
    }
  },
  "nbformat": 4,
  "nbformat_minor": 5
}