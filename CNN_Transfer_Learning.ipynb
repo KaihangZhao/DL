{
  "cells": [
    {
      "cell_type": "markdown",
      "metadata": {
        "id": "view-in-github",
        "colab_type": "text"
      },
      "source": [
        "<a href=\"https://colab.research.google.com/github/KaihangZhao/DL/blob/main/CNN_Transfer_Learning.ipynb\" target=\"_parent\"><img src=\"https://colab.research.google.com/assets/colab-badge.svg\" alt=\"Open In Colab\"/></a>"
      ]
    },
    {
      "cell_type": "markdown",
      "source": [
        "Use pretrained VGG, Alexnet and Resnet models for CIFAR-10 multiclassifications"
      ],
      "metadata": {
        "id": "gZArxtFqYX3L"
      }
    },
    {
      "cell_type": "code",
      "execution_count": null,
      "metadata": {
        "id": "LOq1JjnYpc21"
      },
      "outputs": [],
      "source": [
        "import torch\n",
        "import torch.nn as nn\n",
        "import torch.nn.functional as F\n",
        "from torch.utils.data import DataLoader\n",
        "from torchvision import datasets\n",
        "import torchvision.transforms as transforms\n",
        "import torchvision"
      ]
    },
    {
      "cell_type": "code",
      "execution_count": null,
      "metadata": {
        "id": "NZyoEAFlrFnL"
      },
      "outputs": [],
      "source": [
        "# training function\n",
        "def get_CIFAR10(size,batch_size):\n",
        "    transform=transforms.Compose([transforms.ToTensor(),\n",
        "                                  transforms.Resize(size)])\n",
        "\n",
        "    train_ds=datasets.CIFAR10(\"./data\",train=True,download = True,transform = transform)\n",
        "    train_dl=DataLoader(train_ds,batch_size=batch_size,shuffle = True)\n",
        "    test_ds=datasets.CIFAR10(\"./data\",train=False,download = True,transform = transform)\n",
        "    test_dl=DataLoader(test_ds,batch_size=batch_size,shuffle = True)\n",
        "    return train_dl, test_dl\n",
        "\n",
        "def train_one_epoch(model, optimizer, train_dl):\n",
        "    device = \"cuda\" if torch.cuda.is_available else \"cpu\"\n",
        "    train_loss = 0\n",
        "    for X, y in train_dl:\n",
        "        model.train()\n",
        "        X = X.to(device)\n",
        "        y = y.to(device)\n",
        "        y_pred = model(X)\n",
        "        loss = F.cross_entropy(y_pred, y)\n",
        "        optimizer.zero_grad()\n",
        "        loss.backward()\n",
        "        optimizer.step()\n",
        "\n",
        "        train_loss += loss.item() * X.size(0)\n",
        "        torch.cuda.empty_cache()\n",
        "    train_loss = train_loss / len(train_dl.dataset)\n",
        "    return train_loss\n",
        "\n",
        "\n",
        "def test(model, test_dl):\n",
        "    device = \"cuda\" if torch.cuda.is_available else \"cpu\"\n",
        "    test_loss = 0\n",
        "    accuracy = 0\n",
        "    for X, y in test_dl:\n",
        "        X = X.to(device)\n",
        "        y = y.to(device)\n",
        "        model.eval()\n",
        "        y_pred = model(X)\n",
        "        loss = F.cross_entropy(y_pred, y)\n",
        "\n",
        "        test_loss += loss.item() * X.size(0)\n",
        "        accuracy += sum(y_pred.argmax(dim=1) == y)\n",
        "        torch.cuda.empty_cache()\n",
        "    # calculate accuracy and loss\n",
        "    test_loss = test_loss / len(test_dl.dataset)\n",
        "    accuracy = accuracy / len(test_dl.dataset)\n",
        "    return test_loss, accuracy.item()\n",
        "\n",
        "\n",
        "def train_loop(model, optimizer, train_dl, test_dl, epoch):\n",
        "    for i in range(epoch):\n",
        "        train_loss = train_one_epoch(model, optimizer, train_dl)\n",
        "        test_loss, test_acc = test(model, test_dl)\n",
        "        print(\n",
        "            f\"\"\"train loss:{round(train_loss, 3)}, test loss: {round(test_loss, 3)}, test acc: {round(test_acc, 3)}\"\"\")\n",
        "            "
      ]
    },
    {
      "cell_type": "code",
      "execution_count": null,
      "metadata": {
        "colab": {
          "base_uri": "https://localhost:8080/",
          "height": 102,
          "referenced_widgets": [
            "9d3adaafcbfb4c32b78aeebcb91f0e08",
            "abf4923ce11248dbaeabd812b0ee46da",
            "8e29394fb0bb4c9dbd696493a3481d17",
            "3d94e159794c4667b4bc25f03016fc33",
            "3c52d0b6517c4b7eb507a8167b582530",
            "3ca37f64614b47ba833d7436fd70fa08",
            "c10eeb5800f3474da72b8e816e6a2a39",
            "69b5e480818246e5a9405dc0413a7a62",
            "cb0c45fe98ca480c8323d3fb4a60e9c6",
            "ea3233cc8b2b43f1bba5af089c79bfdb",
            "0a33740e502749058f3f0faf2be07c4c"
          ]
        },
        "id": "c9fK5fibPHNC",
        "outputId": "8d7bca75-8a50-458d-c3a4-a2fb02e8e787"
      },
      "outputs": [
        {
          "name": "stdout",
          "output_type": "stream",
          "text": [
            "Downloading https://www.cs.toronto.edu/~kriz/cifar-10-python.tar.gz to ./data/cifar-10-python.tar.gz\n"
          ]
        },
        {
          "data": {
            "application/vnd.jupyter.widget-view+json": {
              "model_id": "9d3adaafcbfb4c32b78aeebcb91f0e08",
              "version_major": 2,
              "version_minor": 0
            },
            "text/plain": [
              "  0%|          | 0/170498071 [00:00<?, ?it/s]"
            ]
          },
          "metadata": {},
          "output_type": "display_data"
        },
        {
          "name": "stdout",
          "output_type": "stream",
          "text": [
            "Extracting ./data/cifar-10-python.tar.gz to ./data\n",
            "Files already downloaded and verified\n"
          ]
        }
      ],
      "source": [
        "train_dl,test_dl = get_CIFAR10(size=224,batch_size=50)"
      ]
    },
    {
      "cell_type": "code",
      "execution_count": null,
      "metadata": {
        "id": "0hdour_yPSok"
      },
      "outputs": [],
      "source": [
        "vgg11 = torchvision.models.vgg11(pretrained=True)\n",
        "linear = nn.Sequential(nn.LeakyReLU(),\n",
        "                       nn.Linear(1000,10))\n",
        "model_vgg = nn.Sequential(\n",
        "    vgg11,\n",
        "    linear\n",
        ").cuda()"
      ]
    },
    {
      "cell_type": "code",
      "execution_count": null,
      "metadata": {
        "colab": {
          "base_uri": "https://localhost:8080/"
        },
        "id": "kbpg-lJ0R1JE",
        "outputId": "2c1b67f7-4e77-4101-9d32-c969e0dfc2a5"
      },
      "outputs": [
        {
          "name": "stdout",
          "output_type": "stream",
          "text": [
            "train loss:0.534, test loss: 0.287, test acc: 0.902\n",
            "train loss:0.203, test loss: 0.284, test acc: 0.904\n",
            "train loss:0.095, test loss: 0.278, test acc: 0.916\n",
            "train loss:0.057, test loss: 0.335, test acc: 0.908\n",
            "train loss:0.013, test loss: 0.292, test acc: 0.925\n",
            "train loss:0.006, test loss: 0.297, test acc: 0.927\n",
            "train loss:0.004, test loss: 0.308, test acc: 0.927\n",
            "train loss:0.003, test loss: 0.32, test acc: 0.929\n",
            "train loss:0.002, test loss: 0.327, test acc: 0.929\n",
            "train loss:0.002, test loss: 0.337, test acc: 0.93\n"
          ]
        }
      ],
      "source": [
        "# a=0\n",
        "# for i in model_vgg.parameters():\n",
        "#   a+=1\n",
        "#   if a in [23,24]:\n",
        "#     pass\n",
        "#   else:\n",
        "#     i.requires_grad = False\n",
        "\n",
        "#model=VGG(3,vgg_arch).cuda()\n",
        "optimizer=torch.optim.AdamW(model_vgg.parameters(),lr=0.00005,weight_decay=5e-4) \n",
        "train_loop(model_vgg,optimizer,train_dl,test_dl,4)\n",
        "optimizer=torch.optim.AdamW(model_vgg.parameters(),lr=0.000001,weight_decay=5e-3) \n",
        "train_loop(model_vgg,optimizer,train_dl,test_dl,6)"
      ]
    },
    {
      "cell_type": "code",
      "execution_count": null,
      "metadata": {
        "id": "KSvrATtvYcFa"
      },
      "outputs": [],
      "source": [
        "alex = torchvision.models.alexnet(pretrained=True)\n",
        "model_alex = nn.Sequential(\n",
        "    alex,\n",
        "    linear\n",
        ").cuda()"
      ]
    },
    {
      "cell_type": "code",
      "execution_count": null,
      "metadata": {
        "colab": {
          "background_save": true,
          "base_uri": "https://localhost:8080/"
        },
        "id": "nCqn43LzvD6M",
        "outputId": "3f28fa33-5cc3-4d50-8fc1-607870045369"
      },
      "outputs": [
        {
          "name": "stdout",
          "output_type": "stream",
          "text": [
            "train loss:0.627, test loss: 0.418, test acc: 0.855\n",
            "train loss:0.364, test loss: 0.363, test acc: 0.876\n",
            "train loss:0.269, test loss: 0.316, test acc: 0.89\n",
            "train loss:0.196, test loss: 0.311, test acc: 0.893\n",
            "train loss:0.103, test loss: 0.267, test acc: 0.913\n",
            "train loss:0.088, test loss: 0.267, test acc: 0.913\n",
            "train loss:0.084, test loss: 0.268, test acc: 0.915\n",
            "train loss:0.079, test loss: 0.267, test acc: 0.916\n",
            "train loss:0.076, test loss: 0.268, test acc: 0.916\n",
            "train loss:0.071, test loss: 0.27, test acc: 0.916\n"
          ]
        }
      ],
      "source": [
        "optimizer=torch.optim.AdamW(model_alex.parameters(),lr=0.00005,weight_decay=5e-4) \n",
        "train_loop(model_alex,optimizer,train_dl,test_dl,4)\n",
        "optimizer=torch.optim.AdamW(model_alex.parameters(),lr=0.000001,weight_decay=5e-3) \n",
        "train_loop(model_alex,optimizer,train_dl,test_dl,6)"
      ]
    },
    {
      "cell_type": "code",
      "execution_count": null,
      "metadata": {
        "colab": {
          "base_uri": "https://localhost:8080/",
          "height": 67,
          "referenced_widgets": [
            "199f66e5974b4f1eb1d9f9dfcd0f2eb0",
            "274c92ae5e2240e8955c9a7cab0c0602",
            "ad2312e4f3624c8f912cbe0f48832e7a",
            "33136feddd6c4242ba3187e1b0526c7b",
            "236ee22f0d4047e8a4f6ffb062a41ec8",
            "469808b92254456eab0a9590efa9fae9",
            "860ba969d03d4dc4b434bf454b81a335",
            "50d643bf336647ab8c6191b5526a3848",
            "26554142e2c548d0ad807e994031de4c",
            "03fe5ab9eeb14ab1b9638b2f89b2bd1c",
            "3d4f57ff7d70420597dc3e3c4f3b5154"
          ]
        },
        "id": "rhPLRURWvMNZ",
        "outputId": "92bf01bf-7d3f-4c1f-9667-8f4d352997be"
      },
      "outputs": [
        {
          "name": "stderr",
          "output_type": "stream",
          "text": [
            "Downloading: \"https://download.pytorch.org/models/resnet18-f37072fd.pth\" to /root/.cache/torch/hub/checkpoints/resnet18-f37072fd.pth\n"
          ]
        },
        {
          "data": {
            "application/vnd.jupyter.widget-view+json": {
              "model_id": "199f66e5974b4f1eb1d9f9dfcd0f2eb0",
              "version_major": 2,
              "version_minor": 0
            },
            "text/plain": [
              "  0%|          | 0.00/44.7M [00:00<?, ?B/s]"
            ]
          },
          "metadata": {},
          "output_type": "display_data"
        }
      ],
      "source": [
        "res = torchvision.models.resnet18(pretrained=True)\n",
        "linear = nn.Sequential(nn.LeakyReLU(),\n",
        "                       nn.Linear(1000,10))\n",
        "model_res = nn.Sequential(\n",
        "    res,\n",
        "    linear\n",
        ").cuda()\n"
      ]
    },
    {
      "cell_type": "code",
      "execution_count": null,
      "metadata": {
        "colab": {
          "background_save": true,
          "base_uri": "https://localhost:8080/"
        },
        "id": "Z-P-3qXzJAWK",
        "outputId": "9011deb5-52b6-4ae5-cda8-f4485411a546"
      },
      "outputs": [
        {
          "name": "stdout",
          "output_type": "stream",
          "text": [
            "train loss:0.372, test loss: 0.199, test acc: 0.931\n",
            "train loss:0.106, test loss: 0.191, test acc: 0.937\n",
            "train loss:0.046, test loss: 0.204, test acc: 0.937\n",
            "train loss:0.033, test loss: 0.225, test acc: 0.936\n",
            "train loss:0.019, test loss: 0.182, test acc: 0.947\n",
            "train loss:0.012, test loss: 0.178, test acc: 0.948\n",
            "train loss:0.008, test loss: 0.174, test acc: 0.948\n",
            "train loss:0.007, test loss: 0.169, test acc: 0.95\n",
            "train loss:0.006, test loss: 0.169, test acc: 0.95\n",
            "train loss:0.005, test loss: 0.17, test acc: 0.951\n"
          ]
        }
      ],
      "source": [
        "optimizer=torch.optim.AdamW(model_res.parameters(),lr=0.00005,weight_decay=5e-4) \n",
        "train_loop(model_res,optimizer,train_dl,test_dl,4)\n",
        "optimizer=torch.optim.AdamW(model_res.parameters(),lr=0.000001,weight_decay=5e-3) \n",
        "train_loop(model_res,optimizer,train_dl,test_dl,6)"
      ]
    },
    {
      "cell_type": "code",
      "execution_count": null,
      "metadata": {
        "id": "JZ9PK8dJJPyP"
      },
      "outputs": [],
      "source": [
        ""
      ]
    }
  ],
  "metadata": {
    "accelerator": "GPU",
    "colab": {
      "collapsed_sections": [],
      "machine_shape": "hm",
      "name": "CNN Transfer Learning.ipynb",
      "provenance": [],
      "authorship_tag": "ABX9TyOmxviSAM59XU8+Ww14QccM",
      "include_colab_link": true
    },
    "kernelspec": {
      "display_name": "Python 3",
      "name": "python3"
    },
    "language_info": {
      "name": "python"
    },
    "widgets": {
      "application/vnd.jupyter.widget-state+json": {
        "03fe5ab9eeb14ab1b9638b2f89b2bd1c": {
          "model_module": "@jupyter-widgets/base",
          "model_module_version": "1.2.0",
          "model_name": "LayoutModel",
          "state": {
            "_model_module": "@jupyter-widgets/base",
            "_model_module_version": "1.2.0",
            "_model_name": "LayoutModel",
            "_view_count": null,
            "_view_module": "@jupyter-widgets/base",
            "_view_module_version": "1.2.0",
            "_view_name": "LayoutView",
            "align_content": null,
            "align_items": null,
            "align_self": null,
            "border": null,
            "bottom": null,
            "display": null,
            "flex": null,
            "flex_flow": null,
            "grid_area": null,
            "grid_auto_columns": null,
            "grid_auto_flow": null,
            "grid_auto_rows": null,
            "grid_column": null,
            "grid_gap": null,
            "grid_row": null,
            "grid_template_areas": null,
            "grid_template_columns": null,
            "grid_template_rows": null,
            "height": null,
            "justify_content": null,
            "justify_items": null,
            "left": null,
            "margin": null,
            "max_height": null,
            "max_width": null,
            "min_height": null,
            "min_width": null,
            "object_fit": null,
            "object_position": null,
            "order": null,
            "overflow": null,
            "overflow_x": null,
            "overflow_y": null,
            "padding": null,
            "right": null,
            "top": null,
            "visibility": null,
            "width": null
          }
        },
        "0a33740e502749058f3f0faf2be07c4c": {
          "model_module": "@jupyter-widgets/controls",
          "model_module_version": "1.5.0",
          "model_name": "DescriptionStyleModel",
          "state": {
            "_model_module": "@jupyter-widgets/controls",
            "_model_module_version": "1.5.0",
            "_model_name": "DescriptionStyleModel",
            "_view_count": null,
            "_view_module": "@jupyter-widgets/base",
            "_view_module_version": "1.2.0",
            "_view_name": "StyleView",
            "description_width": ""
          }
        },
        "199f66e5974b4f1eb1d9f9dfcd0f2eb0": {
          "model_module": "@jupyter-widgets/controls",
          "model_module_version": "1.5.0",
          "model_name": "HBoxModel",
          "state": {
            "_dom_classes": [],
            "_model_module": "@jupyter-widgets/controls",
            "_model_module_version": "1.5.0",
            "_model_name": "HBoxModel",
            "_view_count": null,
            "_view_module": "@jupyter-widgets/controls",
            "_view_module_version": "1.5.0",
            "_view_name": "HBoxView",
            "box_style": "",
            "children": [
              "IPY_MODEL_274c92ae5e2240e8955c9a7cab0c0602",
              "IPY_MODEL_ad2312e4f3624c8f912cbe0f48832e7a",
              "IPY_MODEL_33136feddd6c4242ba3187e1b0526c7b"
            ],
            "layout": "IPY_MODEL_236ee22f0d4047e8a4f6ffb062a41ec8"
          }
        },
        "236ee22f0d4047e8a4f6ffb062a41ec8": {
          "model_module": "@jupyter-widgets/base",
          "model_module_version": "1.2.0",
          "model_name": "LayoutModel",
          "state": {
            "_model_module": "@jupyter-widgets/base",
            "_model_module_version": "1.2.0",
            "_model_name": "LayoutModel",
            "_view_count": null,
            "_view_module": "@jupyter-widgets/base",
            "_view_module_version": "1.2.0",
            "_view_name": "LayoutView",
            "align_content": null,
            "align_items": null,
            "align_self": null,
            "border": null,
            "bottom": null,
            "display": null,
            "flex": null,
            "flex_flow": null,
            "grid_area": null,
            "grid_auto_columns": null,
            "grid_auto_flow": null,
            "grid_auto_rows": null,
            "grid_column": null,
            "grid_gap": null,
            "grid_row": null,
            "grid_template_areas": null,
            "grid_template_columns": null,
            "grid_template_rows": null,
            "height": null,
            "justify_content": null,
            "justify_items": null,
            "left": null,
            "margin": null,
            "max_height": null,
            "max_width": null,
            "min_height": null,
            "min_width": null,
            "object_fit": null,
            "object_position": null,
            "order": null,
            "overflow": null,
            "overflow_x": null,
            "overflow_y": null,
            "padding": null,
            "right": null,
            "top": null,
            "visibility": null,
            "width": null
          }
        },
        "26554142e2c548d0ad807e994031de4c": {
          "model_module": "@jupyter-widgets/controls",
          "model_module_version": "1.5.0",
          "model_name": "ProgressStyleModel",
          "state": {
            "_model_module": "@jupyter-widgets/controls",
            "_model_module_version": "1.5.0",
            "_model_name": "ProgressStyleModel",
            "_view_count": null,
            "_view_module": "@jupyter-widgets/base",
            "_view_module_version": "1.2.0",
            "_view_name": "StyleView",
            "bar_color": null,
            "description_width": ""
          }
        },
        "274c92ae5e2240e8955c9a7cab0c0602": {
          "model_module": "@jupyter-widgets/controls",
          "model_module_version": "1.5.0",
          "model_name": "HTMLModel",
          "state": {
            "_dom_classes": [],
            "_model_module": "@jupyter-widgets/controls",
            "_model_module_version": "1.5.0",
            "_model_name": "HTMLModel",
            "_view_count": null,
            "_view_module": "@jupyter-widgets/controls",
            "_view_module_version": "1.5.0",
            "_view_name": "HTMLView",
            "description": "",
            "description_tooltip": null,
            "layout": "IPY_MODEL_469808b92254456eab0a9590efa9fae9",
            "placeholder": "​",
            "style": "IPY_MODEL_860ba969d03d4dc4b434bf454b81a335",
            "value": "100%"
          }
        },
        "33136feddd6c4242ba3187e1b0526c7b": {
          "model_module": "@jupyter-widgets/controls",
          "model_module_version": "1.5.0",
          "model_name": "HTMLModel",
          "state": {
            "_dom_classes": [],
            "_model_module": "@jupyter-widgets/controls",
            "_model_module_version": "1.5.0",
            "_model_name": "HTMLModel",
            "_view_count": null,
            "_view_module": "@jupyter-widgets/controls",
            "_view_module_version": "1.5.0",
            "_view_name": "HTMLView",
            "description": "",
            "description_tooltip": null,
            "layout": "IPY_MODEL_03fe5ab9eeb14ab1b9638b2f89b2bd1c",
            "placeholder": "​",
            "style": "IPY_MODEL_3d4f57ff7d70420597dc3e3c4f3b5154",
            "value": " 44.7M/44.7M [00:00&lt;00:00, 168MB/s]"
          }
        },
        "3c52d0b6517c4b7eb507a8167b582530": {
          "model_module": "@jupyter-widgets/base",
          "model_module_version": "1.2.0",
          "model_name": "LayoutModel",
          "state": {
            "_model_module": "@jupyter-widgets/base",
            "_model_module_version": "1.2.0",
            "_model_name": "LayoutModel",
            "_view_count": null,
            "_view_module": "@jupyter-widgets/base",
            "_view_module_version": "1.2.0",
            "_view_name": "LayoutView",
            "align_content": null,
            "align_items": null,
            "align_self": null,
            "border": null,
            "bottom": null,
            "display": null,
            "flex": null,
            "flex_flow": null,
            "grid_area": null,
            "grid_auto_columns": null,
            "grid_auto_flow": null,
            "grid_auto_rows": null,
            "grid_column": null,
            "grid_gap": null,
            "grid_row": null,
            "grid_template_areas": null,
            "grid_template_columns": null,
            "grid_template_rows": null,
            "height": null,
            "justify_content": null,
            "justify_items": null,
            "left": null,
            "margin": null,
            "max_height": null,
            "max_width": null,
            "min_height": null,
            "min_width": null,
            "object_fit": null,
            "object_position": null,
            "order": null,
            "overflow": null,
            "overflow_x": null,
            "overflow_y": null,
            "padding": null,
            "right": null,
            "top": null,
            "visibility": null,
            "width": null
          }
        },
        "3ca37f64614b47ba833d7436fd70fa08": {
          "model_module": "@jupyter-widgets/base",
          "model_module_version": "1.2.0",
          "model_name": "LayoutModel",
          "state": {
            "_model_module": "@jupyter-widgets/base",
            "_model_module_version": "1.2.0",
            "_model_name": "LayoutModel",
            "_view_count": null,
            "_view_module": "@jupyter-widgets/base",
            "_view_module_version": "1.2.0",
            "_view_name": "LayoutView",
            "align_content": null,
            "align_items": null,
            "align_self": null,
            "border": null,
            "bottom": null,
            "display": null,
            "flex": null,
            "flex_flow": null,
            "grid_area": null,
            "grid_auto_columns": null,
            "grid_auto_flow": null,
            "grid_auto_rows": null,
            "grid_column": null,
            "grid_gap": null,
            "grid_row": null,
            "grid_template_areas": null,
            "grid_template_columns": null,
            "grid_template_rows": null,
            "height": null,
            "justify_content": null,
            "justify_items": null,
            "left": null,
            "margin": null,
            "max_height": null,
            "max_width": null,
            "min_height": null,
            "min_width": null,
            "object_fit": null,
            "object_position": null,
            "order": null,
            "overflow": null,
            "overflow_x": null,
            "overflow_y": null,
            "padding": null,
            "right": null,
            "top": null,
            "visibility": null,
            "width": null
          }
        },
        "3d4f57ff7d70420597dc3e3c4f3b5154": {
          "model_module": "@jupyter-widgets/controls",
          "model_module_version": "1.5.0",
          "model_name": "DescriptionStyleModel",
          "state": {
            "_model_module": "@jupyter-widgets/controls",
            "_model_module_version": "1.5.0",
            "_model_name": "DescriptionStyleModel",
            "_view_count": null,
            "_view_module": "@jupyter-widgets/base",
            "_view_module_version": "1.2.0",
            "_view_name": "StyleView",
            "description_width": ""
          }
        },
        "3d94e159794c4667b4bc25f03016fc33": {
          "model_module": "@jupyter-widgets/controls",
          "model_module_version": "1.5.0",
          "model_name": "HTMLModel",
          "state": {
            "_dom_classes": [],
            "_model_module": "@jupyter-widgets/controls",
            "_model_module_version": "1.5.0",
            "_model_name": "HTMLModel",
            "_view_count": null,
            "_view_module": "@jupyter-widgets/controls",
            "_view_module_version": "1.5.0",
            "_view_name": "HTMLView",
            "description": "",
            "description_tooltip": null,
            "layout": "IPY_MODEL_ea3233cc8b2b43f1bba5af089c79bfdb",
            "placeholder": "​",
            "style": "IPY_MODEL_0a33740e502749058f3f0faf2be07c4c",
            "value": " 170499072/? [00:10&lt;00:00, 17931346.78it/s]"
          }
        },
        "469808b92254456eab0a9590efa9fae9": {
          "model_module": "@jupyter-widgets/base",
          "model_module_version": "1.2.0",
          "model_name": "LayoutModel",
          "state": {
            "_model_module": "@jupyter-widgets/base",
            "_model_module_version": "1.2.0",
            "_model_name": "LayoutModel",
            "_view_count": null,
            "_view_module": "@jupyter-widgets/base",
            "_view_module_version": "1.2.0",
            "_view_name": "LayoutView",
            "align_content": null,
            "align_items": null,
            "align_self": null,
            "border": null,
            "bottom": null,
            "display": null,
            "flex": null,
            "flex_flow": null,
            "grid_area": null,
            "grid_auto_columns": null,
            "grid_auto_flow": null,
            "grid_auto_rows": null,
            "grid_column": null,
            "grid_gap": null,
            "grid_row": null,
            "grid_template_areas": null,
            "grid_template_columns": null,
            "grid_template_rows": null,
            "height": null,
            "justify_content": null,
            "justify_items": null,
            "left": null,
            "margin": null,
            "max_height": null,
            "max_width": null,
            "min_height": null,
            "min_width": null,
            "object_fit": null,
            "object_position": null,
            "order": null,
            "overflow": null,
            "overflow_x": null,
            "overflow_y": null,
            "padding": null,
            "right": null,
            "top": null,
            "visibility": null,
            "width": null
          }
        },
        "50d643bf336647ab8c6191b5526a3848": {
          "model_module": "@jupyter-widgets/base",
          "model_module_version": "1.2.0",
          "model_name": "LayoutModel",
          "state": {
            "_model_module": "@jupyter-widgets/base",
            "_model_module_version": "1.2.0",
            "_model_name": "LayoutModel",
            "_view_count": null,
            "_view_module": "@jupyter-widgets/base",
            "_view_module_version": "1.2.0",
            "_view_name": "LayoutView",
            "align_content": null,
            "align_items": null,
            "align_self": null,
            "border": null,
            "bottom": null,
            "display": null,
            "flex": null,
            "flex_flow": null,
            "grid_area": null,
            "grid_auto_columns": null,
            "grid_auto_flow": null,
            "grid_auto_rows": null,
            "grid_column": null,
            "grid_gap": null,
            "grid_row": null,
            "grid_template_areas": null,
            "grid_template_columns": null,
            "grid_template_rows": null,
            "height": null,
            "justify_content": null,
            "justify_items": null,
            "left": null,
            "margin": null,
            "max_height": null,
            "max_width": null,
            "min_height": null,
            "min_width": null,
            "object_fit": null,
            "object_position": null,
            "order": null,
            "overflow": null,
            "overflow_x": null,
            "overflow_y": null,
            "padding": null,
            "right": null,
            "top": null,
            "visibility": null,
            "width": null
          }
        },
        "69b5e480818246e5a9405dc0413a7a62": {
          "model_module": "@jupyter-widgets/base",
          "model_module_version": "1.2.0",
          "model_name": "LayoutModel",
          "state": {
            "_model_module": "@jupyter-widgets/base",
            "_model_module_version": "1.2.0",
            "_model_name": "LayoutModel",
            "_view_count": null,
            "_view_module": "@jupyter-widgets/base",
            "_view_module_version": "1.2.0",
            "_view_name": "LayoutView",
            "align_content": null,
            "align_items": null,
            "align_self": null,
            "border": null,
            "bottom": null,
            "display": null,
            "flex": null,
            "flex_flow": null,
            "grid_area": null,
            "grid_auto_columns": null,
            "grid_auto_flow": null,
            "grid_auto_rows": null,
            "grid_column": null,
            "grid_gap": null,
            "grid_row": null,
            "grid_template_areas": null,
            "grid_template_columns": null,
            "grid_template_rows": null,
            "height": null,
            "justify_content": null,
            "justify_items": null,
            "left": null,
            "margin": null,
            "max_height": null,
            "max_width": null,
            "min_height": null,
            "min_width": null,
            "object_fit": null,
            "object_position": null,
            "order": null,
            "overflow": null,
            "overflow_x": null,
            "overflow_y": null,
            "padding": null,
            "right": null,
            "top": null,
            "visibility": null,
            "width": null
          }
        },
        "860ba969d03d4dc4b434bf454b81a335": {
          "model_module": "@jupyter-widgets/controls",
          "model_module_version": "1.5.0",
          "model_name": "DescriptionStyleModel",
          "state": {
            "_model_module": "@jupyter-widgets/controls",
            "_model_module_version": "1.5.0",
            "_model_name": "DescriptionStyleModel",
            "_view_count": null,
            "_view_module": "@jupyter-widgets/base",
            "_view_module_version": "1.2.0",
            "_view_name": "StyleView",
            "description_width": ""
          }
        },
        "8e29394fb0bb4c9dbd696493a3481d17": {
          "model_module": "@jupyter-widgets/controls",
          "model_module_version": "1.5.0",
          "model_name": "FloatProgressModel",
          "state": {
            "_dom_classes": [],
            "_model_module": "@jupyter-widgets/controls",
            "_model_module_version": "1.5.0",
            "_model_name": "FloatProgressModel",
            "_view_count": null,
            "_view_module": "@jupyter-widgets/controls",
            "_view_module_version": "1.5.0",
            "_view_name": "ProgressView",
            "bar_style": "success",
            "description": "",
            "description_tooltip": null,
            "layout": "IPY_MODEL_69b5e480818246e5a9405dc0413a7a62",
            "max": 170498071,
            "min": 0,
            "orientation": "horizontal",
            "style": "IPY_MODEL_cb0c45fe98ca480c8323d3fb4a60e9c6",
            "value": 170498071
          }
        },
        "9d3adaafcbfb4c32b78aeebcb91f0e08": {
          "model_module": "@jupyter-widgets/controls",
          "model_module_version": "1.5.0",
          "model_name": "HBoxModel",
          "state": {
            "_dom_classes": [],
            "_model_module": "@jupyter-widgets/controls",
            "_model_module_version": "1.5.0",
            "_model_name": "HBoxModel",
            "_view_count": null,
            "_view_module": "@jupyter-widgets/controls",
            "_view_module_version": "1.5.0",
            "_view_name": "HBoxView",
            "box_style": "",
            "children": [
              "IPY_MODEL_abf4923ce11248dbaeabd812b0ee46da",
              "IPY_MODEL_8e29394fb0bb4c9dbd696493a3481d17",
              "IPY_MODEL_3d94e159794c4667b4bc25f03016fc33"
            ],
            "layout": "IPY_MODEL_3c52d0b6517c4b7eb507a8167b582530"
          }
        },
        "abf4923ce11248dbaeabd812b0ee46da": {
          "model_module": "@jupyter-widgets/controls",
          "model_module_version": "1.5.0",
          "model_name": "HTMLModel",
          "state": {
            "_dom_classes": [],
            "_model_module": "@jupyter-widgets/controls",
            "_model_module_version": "1.5.0",
            "_model_name": "HTMLModel",
            "_view_count": null,
            "_view_module": "@jupyter-widgets/controls",
            "_view_module_version": "1.5.0",
            "_view_name": "HTMLView",
            "description": "",
            "description_tooltip": null,
            "layout": "IPY_MODEL_3ca37f64614b47ba833d7436fd70fa08",
            "placeholder": "​",
            "style": "IPY_MODEL_c10eeb5800f3474da72b8e816e6a2a39",
            "value": ""
          }
        },
        "ad2312e4f3624c8f912cbe0f48832e7a": {
          "model_module": "@jupyter-widgets/controls",
          "model_module_version": "1.5.0",
          "model_name": "FloatProgressModel",
          "state": {
            "_dom_classes": [],
            "_model_module": "@jupyter-widgets/controls",
            "_model_module_version": "1.5.0",
            "_model_name": "FloatProgressModel",
            "_view_count": null,
            "_view_module": "@jupyter-widgets/controls",
            "_view_module_version": "1.5.0",
            "_view_name": "ProgressView",
            "bar_style": "success",
            "description": "",
            "description_tooltip": null,
            "layout": "IPY_MODEL_50d643bf336647ab8c6191b5526a3848",
            "max": 46830571,
            "min": 0,
            "orientation": "horizontal",
            "style": "IPY_MODEL_26554142e2c548d0ad807e994031de4c",
            "value": 46830571
          }
        },
        "c10eeb5800f3474da72b8e816e6a2a39": {
          "model_module": "@jupyter-widgets/controls",
          "model_module_version": "1.5.0",
          "model_name": "DescriptionStyleModel",
          "state": {
            "_model_module": "@jupyter-widgets/controls",
            "_model_module_version": "1.5.0",
            "_model_name": "DescriptionStyleModel",
            "_view_count": null,
            "_view_module": "@jupyter-widgets/base",
            "_view_module_version": "1.2.0",
            "_view_name": "StyleView",
            "description_width": ""
          }
        },
        "cb0c45fe98ca480c8323d3fb4a60e9c6": {
          "model_module": "@jupyter-widgets/controls",
          "model_module_version": "1.5.0",
          "model_name": "ProgressStyleModel",
          "state": {
            "_model_module": "@jupyter-widgets/controls",
            "_model_module_version": "1.5.0",
            "_model_name": "ProgressStyleModel",
            "_view_count": null,
            "_view_module": "@jupyter-widgets/base",
            "_view_module_version": "1.2.0",
            "_view_name": "StyleView",
            "bar_color": null,
            "description_width": ""
          }
        },
        "ea3233cc8b2b43f1bba5af089c79bfdb": {
          "model_module": "@jupyter-widgets/base",
          "model_module_version": "1.2.0",
          "model_name": "LayoutModel",
          "state": {
            "_model_module": "@jupyter-widgets/base",
            "_model_module_version": "1.2.0",
            "_model_name": "LayoutModel",
            "_view_count": null,
            "_view_module": "@jupyter-widgets/base",
            "_view_module_version": "1.2.0",
            "_view_name": "LayoutView",
            "align_content": null,
            "align_items": null,
            "align_self": null,
            "border": null,
            "bottom": null,
            "display": null,
            "flex": null,
            "flex_flow": null,
            "grid_area": null,
            "grid_auto_columns": null,
            "grid_auto_flow": null,
            "grid_auto_rows": null,
            "grid_column": null,
            "grid_gap": null,
            "grid_row": null,
            "grid_template_areas": null,
            "grid_template_columns": null,
            "grid_template_rows": null,
            "height": null,
            "justify_content": null,
            "justify_items": null,
            "left": null,
            "margin": null,
            "max_height": null,
            "max_width": null,
            "min_height": null,
            "min_width": null,
            "object_fit": null,
            "object_position": null,
            "order": null,
            "overflow": null,
            "overflow_x": null,
            "overflow_y": null,
            "padding": null,
            "right": null,
            "top": null,
            "visibility": null,
            "width": null
          }
        }
      }
    }
  },
  "nbformat": 4,
  "nbformat_minor": 0
}
